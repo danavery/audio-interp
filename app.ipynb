{
 "cells": [
  {
   "cell_type": "code",
   "execution_count": null,
   "metadata": {},
   "outputs": [],
   "source": [
    "from collections import defaultdict\n",
    "import random\n",
    "\n",
    "from librosa.display import specshow\n",
    "import matplotlib.pyplot as plt\n",
    "import torch\n",
    "from datasets import load_dataset\n",
    "from torchaudio.transforms import AmplitudeToDB, MelSpectrogram, Resample\n",
    "import gradio as gr\n",
    "\n",
    "%load_ext gradio\n",
    "\n",
    "no_class_string = \"Use filename instead\""
   ]
  },
  {
   "cell_type": "code",
   "execution_count": null,
   "metadata": {},
   "outputs": [],
   "source": [
    "dataset = load_dataset(\"danavery/urbansound8k\")\n",
    "filename_to_index = defaultdict(int)\n",
    "class_to_class_id = defaultdict(int)\n",
    "class_id_files = defaultdict(list)\n",
    "for index, item in enumerate(dataset[\"train\"]):\n",
    "    filename = item[\"slice_file_name\"]\n",
    "    class_name = item[\"class\"]\n",
    "    class_id = int(item[\"classID\"])\n",
    "\n",
    "    filename_to_index[filename] = index\n",
    "    class_to_class_id[class_name] = class_id\n",
    "    class_id_files[class_id].append(filename)"
   ]
  },
  {
   "cell_type": "code",
   "execution_count": null,
   "metadata": {},
   "outputs": [],
   "source": [
    "def fetch_random():\n",
    "    example_index = random.randint(0, len(dataset['train']) - 1)\n",
    "    example = dataset['train'][example_index]\n",
    "    return example"
   ]
  },
  {
   "cell_type": "code",
   "execution_count": null,
   "metadata": {},
   "outputs": [],
   "source": [
    "def get_random_index_by_class(audio_class):\n",
    "    class_id = class_to_class_id[audio_class]\n",
    "    filenames = class_id_files.get(class_id, [])\n",
    "    selected_filename = random.choice(filenames)\n",
    "    index = filename_to_index.get(selected_filename)\n",
    "    return index"
   ]
  },
  {
   "cell_type": "code",
   "execution_count": null,
   "metadata": {},
   "outputs": [],
   "source": [
    "def fetch_example(file_name=None, audio_class=no_class_string):\n",
    "    if audio_class == no_class_string and file_name:\n",
    "        example = dataset[\"train\"][filename_to_index[file_name]]\n",
    "    elif audio_class == no_class_string:\n",
    "        example = fetch_random()\n",
    "    else:\n",
    "        example = dataset[\"train\"][get_random_index_by_class(audio_class)]\n",
    "\n",
    "    waveform = torch.tensor(example[\"audio\"][\"array\"]).float()\n",
    "    waveform = torch.unsqueeze(waveform, 0)\n",
    "    sr = example[\"audio\"][\"sampling_rate\"]\n",
    "    slice_file_name = example[\"slice_file_name\"]\n",
    "    audio_class = example[\"class\"]\n",
    "    return waveform, sr, slice_file_name, audio_class"
   ]
  },
  {
   "cell_type": "code",
   "execution_count": null,
   "metadata": {},
   "outputs": [],
   "source": [
    "def make_mel_spectrogram(\n",
    "    audio: torch.Tensor, sample_rate, hop_length=256, n_fft=512, n_mels=64\n",
    ") -> torch.Tensor:\n",
    "    spec_transformer = MelSpectrogram(\n",
    "        sample_rate=sample_rate,\n",
    "        n_fft=n_fft,\n",
    "        hop_length=hop_length,\n",
    "        n_mels=n_mels,\n",
    "    )\n",
    "    mel_spec = spec_transformer(audio).squeeze(0)\n",
    "\n",
    "    amplitude_to_db_transformer = AmplitudeToDB()\n",
    "    mel_spec_db = amplitude_to_db_transformer(mel_spec)\n",
    "    print(mel_spec_db.shape)\n",
    "    return mel_spec_db"
   ]
  },
  {
   "cell_type": "code",
   "execution_count": null,
   "metadata": {},
   "outputs": [],
   "source": [
    "def resample(audio, file_sr):\n",
    "    if audio.shape[0] > 1:\n",
    "        audio = torch.mean(audio, dim=0, keepdim=True)\n",
    "    sample_rate = 22050\n",
    "    resampler = Resample(file_sr, sample_rate)\n",
    "    audio = resampler(audio)\n",
    "\n",
    "    num_samples = audio.shape[-1]\n",
    "    total_duration = num_samples / sample_rate\n",
    "\n",
    "    return audio, num_samples, total_duration\n",
    "\n",
    "\n",
    "def normalize_spectrogram(spec):\n",
    "    spectrogram = (spec - torch.min(spec)) / (torch.max(spec) - torch.min(spec))\n",
    "    return spectrogram\n",
    "\n",
    "\n",
    "def generate_spectrogram(audio):\n",
    "    spectrogram = make_mel_spectrogram(audio, 22050)\n",
    "    return spectrogram\n",
    "\n",
    "\n",
    "def preprocess(waveform, sr):\n",
    "    audio, _, _ = resample(waveform, sr)\n",
    "    spec = generate_spectrogram(audio)\n",
    "    norm_spec = normalize_spectrogram(spec)\n",
    "    return audio, norm_spec"
   ]
  },
  {
   "cell_type": "code",
   "execution_count": null,
   "metadata": {},
   "outputs": [],
   "source": [
    "def generate_spec_figure(file_name=\"\", audio_class=None):\n",
    "    if file_name:\n",
    "        waveform, sr, file_name, audio_class = fetch_example(\n",
    "            file_name=file_name, audio_class=audio_class\n",
    "        )\n",
    "    elif audio_class != no_class_string:\n",
    "        waveform, sr, file_name, audio_class = fetch_example(\n",
    "            file_name=file_name, audio_class=audio_class\n",
    "        )\n",
    "    else:\n",
    "        waveform, sr, file_name, audio_class = fetch_example()\n",
    "    audio, norm_spec = preprocess(waveform, sr)\n",
    "    fig, ax = plt.subplots(figsize=(5, 2))\n",
    "    img = specshow(\n",
    "        norm_spec.numpy(), sr=22050, hop_length=256, x_axis=\"time\", y_axis=\"mel\", ax=ax\n",
    "    )\n",
    "    return fig, audio[0].numpy(), file_name, audio_class\n",
    "\n"
   ]
  },
  {
   "cell_type": "code",
   "execution_count": null,
   "metadata": {},
   "outputs": [],
   "source": [
    "def generate_gradio_elements(file_name, class_picker):\n",
    "    fig, audio, file_name, audio_class = generate_spec_figure(file_name, class_picker)\n",
    "    fig = gr.Plot(value=fig)\n",
    "    audio = gr.Audio(value=(22050, audio))\n",
    "    file_name = gr.Textbox(value=file_name)\n",
    "    class_picker = gr.Dropdown(value=audio_class)\n",
    "    return fig, audio, file_name, class_picker"
   ]
  },
  {
   "cell_type": "code",
   "execution_count": null,
   "metadata": {},
   "outputs": [],
   "source": [
    "spec = generate_spec_figure(\"137815-4-0-8.wav\")"
   ]
  },
  {
   "cell_type": "code",
   "execution_count": null,
   "metadata": {},
   "outputs": [],
   "source": [
    "%%blocks\n",
    "classes = list(class_to_class_id.keys())\n",
    "classes.append(no_class_string)\n",
    "\n",
    "with gr.Blocks() as demo:\n",
    "    with gr.Row():\n",
    "        file_name = gr.Textbox(label=\"slice_file_name in dataset\")\n",
    "        class_picker = gr.Dropdown(\n",
    "            choices=classes, label=\"Choose a category\", value=classes[-1]\n",
    "        )\n",
    "    with gr.Row():\n",
    "        spec = gr.Plot(container=True)\n",
    "        my_audio = gr.Audio()\n",
    "    gen_button = gr.Button(\"Get Spec\")\n",
    "    gen_button.click(\n",
    "        fn=generate_gradio_elements,\n",
    "        inputs=[file_name, class_picker],\n",
    "        outputs=[spec, my_audio, file_name, class_picker],\n",
    "    )\n",
    "    gr.Examples(\n",
    "        examples=[[\"100263-2-0-117.wav\"], [\"100852-0-0-0.wav\"]],\n",
    "        inputs=[file_name, class_picker],\n",
    "        outputs=[spec, my_audio, file_name, class_picker],\n",
    "        run_on_click=True,\n",
    "        fn=generate_gradio_elements,\n",
    "    )"
   ]
  },
  {
   "cell_type": "code",
   "execution_count": null,
   "metadata": {},
   "outputs": [],
   "source": []
  }
 ],
 "metadata": {
  "kernelspec": {
   "display_name": "audio_interp",
   "language": "python",
   "name": "python3"
  },
  "language_info": {
   "codemirror_mode": {
    "name": "ipython",
    "version": 3
   },
   "file_extension": ".py",
   "mimetype": "text/x-python",
   "name": "python",
   "nbconvert_exporter": "python",
   "pygments_lexer": "ipython3",
   "version": "3.10.13"
  }
 },
 "nbformat": 4,
 "nbformat_minor": 2
}
